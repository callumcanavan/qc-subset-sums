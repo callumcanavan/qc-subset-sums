{
 "cells": [
  {
   "cell_type": "code",
   "execution_count": 19,
   "metadata": {},
   "outputs": [],
   "source": [
    "import numpy as np\n",
    "\n",
    "from qiskit import Aer\n",
    "from qiskit import QuantumCircuit, QuantumRegister\n",
    "from qiskit.quantum_info import Statevector\n",
    "from qiskit.algorithms import Grover, AmplificationProblem"
   ]
  },
  {
   "cell_type": "code",
   "execution_count": 23,
   "metadata": {},
   "outputs": [],
   "source": [
    "TAU = 2 * np.pi"
   ]
  },
  {
   "cell_type": "code",
   "execution_count": 46,
   "metadata": {},
   "outputs": [],
   "source": [
    "value = np.array([1, 3, 6, 4, 2])\n",
    "target = 6"
   ]
  },
  {
   "cell_type": "code",
   "execution_count": 53,
   "metadata": {},
   "outputs": [],
   "source": [
    "N = len(value)\n",
    "T = sum(value)\n",
    "assert T >= target"
   ]
  },
  {
   "cell_type": "code",
   "execution_count": 48,
   "metadata": {},
   "outputs": [],
   "source": [
    "n_value_qubits = np.ceil(np.log2(T))\n",
    "n_sum_qubits = N + n_value_qubits"
   ]
  },
  {
   "cell_type": "code",
   "execution_count": 49,
   "metadata": {},
   "outputs": [],
   "source": [
    "key = 2 ** (np.arange(N) + n_value_qubits)\n",
    "key_value = (keys + value)\n",
    "key_value_normed = key_value / (2 ** n_sum_qubits)"
   ]
  },
  {
   "cell_type": "code",
   "execution_count": 58,
   "metadata": {},
   "outputs": [],
   "source": [
    "exp_sum = QuantumCircuit(N)\n",
    "for i, kv in enumerate(key_value_normed):\n",
    "    exp_sum.p(TAU * kv, i)\n",
    "U = exp_sum.to_gate()"
   ]
  },
  {
   "cell_type": "code",
   "execution_count": 22,
   "metadata": {},
   "outputs": [],
   "source": [
    "sum_reg = QuantumRegister(n_qubits_ft)\n",
    "ancilla_reg = QuantumRegister(N)"
   ]
  },
  {
   "cell_type": "code",
   "execution_count": 17,
   "metadata": {},
   "outputs": [
    {
     "data": {
      "text/plain": [
       "9.0"
      ]
     },
     "execution_count": 17,
     "metadata": {},
     "output_type": "execute_result"
    }
   ],
   "source": [
    "sums_preparation = QuantumCircuit([sums_reg, ancilla_reg])\n",
    "sums_preparation.h([sums_reg, ancilla_reg])\n",
    "\n",
    "repetitions = 1\n",
    "for v, sums_qubit in zip(vector, :\n",
    "    for _ in range(repetitions):\n",
    "        "
   ]
  },
  {
   "cell_type": "code",
   "execution_count": 15,
   "metadata": {},
   "outputs": [
    {
     "data": {
      "text/plain": [
       "4.0"
      ]
     },
     "execution_count": 15,
     "metadata": {},
     "output_type": "execute_result"
    }
   ],
   "source": [
    "np.log2(T)"
   ]
  },
  {
   "cell_type": "code",
   "execution_count": 4,
   "metadata": {},
   "outputs": [
    {
     "data": {
      "text/plain": [
       "'0b110'"
      ]
     },
     "execution_count": 4,
     "metadata": {},
     "output_type": "execute_result"
    }
   ],
   "source": [
    "bin(6)"
   ]
  },
  {
   "cell_type": "code",
   "execution_count": 13,
   "metadata": {},
   "outputs": [],
   "source": [
    "oracle = Statevector.from_label(bin(6)[2:])"
   ]
  },
  {
   "cell_type": "code",
   "execution_count": 14,
   "metadata": {},
   "outputs": [
    {
     "name": "stdout",
     "output_type": "stream",
     "text": [
      "Statevector([0.+0.j, 0.+0.j, 0.+0.j, 0.+0.j, 0.+0.j, 0.+0.j, 1.+0.j,\n",
      "             0.+0.j],\n",
      "            dims=(2, 2, 2))\n"
     ]
    }
   ],
   "source": [
    "oracle"
   ]
  },
  {
   "cell_type": "code",
   "execution_count": 75,
   "metadata": {},
   "outputs": [],
   "source": [
    "aer_simulator = Aer.get_backend('aer_simulator')"
   ]
  },
  {
   "cell_type": "code",
   "execution_count": 123,
   "metadata": {},
   "outputs": [
    {
     "name": "stdout",
     "output_type": "stream",
     "text": [
      "state preparation circuit:\n"
     ]
    },
    {
     "data": {
      "image/png": "[encoded data removed]",
      "text/plain": [
       "<Figure size 267.197x204.68 with 1 Axes>"
      ]
     },
     "execution_count": 123,
     "metadata": {},
     "output_type": "execute_result"
    }
   ],
   "source": [
    "import numpy as np\n",
    "\n",
    "# Specifying `state_preparation`\n",
    "# to prepare a superposition of |01>, |10>, and |11>\n",
    "oracle = QuantumCircuit(3)\n",
    "oracle.ccx(0,1,2)\n",
    "\n",
    "theta = 2 * np.arccos(1 / np.sqrt(3))\n",
    "state_preparation = QuantumCircuit(3)\n",
    "state_preparation.ry(theta, 0)\n",
    "state_preparation.ch(0,1)\n",
    "state_preparation.x(1)\n",
    "\n",
    "# we only care about the first two bits being in state 1, thus add both possibilities for the last qubit\n",
    "problem = AmplificationProblem(oracle, state_preparation=state_preparation, is_good_state=['110', '111'])\n",
    "\n",
    "# state_preparation\n",
    "print('state preparation circuit:')\n",
    "problem.grover_operator.state_preparation.draw(output='mpl')"
   ]
  },
  {
   "cell_type": "code",
   "execution_count": 124,
   "metadata": {},
   "outputs": [
    {
     "name": "stdout",
     "output_type": "stream",
     "text": [
      "Success!\n",
      "Top measurement: 111\n"
     ]
    }
   ],
   "source": [
    "grover = Grover(quantum_instance=aer_simulator)\n",
    "result = grover.amplify(problem)\n",
    "print('Success!' if result.oracle_evaluation else 'Failure!')\n",
    "print('Top measurement:', result.top_measurement)"
   ]
  },
  {
   "cell_type": "code",
   "execution_count": 11,
   "metadata": {},
   "outputs": [],
   "source": [
    "oracle = Statevector.from_label('11')\n",
    "problem = AmplificationProblem(oracle)\n",
    "grover = Grover(quantum_instance=aer_simulator)"
   ]
  },
  {
   "cell_type": "code",
   "execution_count": 28,
   "metadata": {},
   "outputs": [
    {
     "ename": "TypeError",
     "evalue": "object of type 'TextDrawing' has no len()",
     "output_type": "error",
     "traceback": [
      "\u001b[1;31m---------------------------------------------------------------------------\u001b[0m",
      "\u001b[1;31mTypeError\u001b[0m                                 Traceback (most recent call last)",
      "Input \u001b[1;32mIn [28]\u001b[0m, in \u001b[0;36m<cell line: 3>\u001b[1;34m()\u001b[0m\n\u001b[0;32m      1\u001b[0m oracle \u001b[38;5;241m=\u001b[39m Statevector\u001b[38;5;241m.\u001b[39mfrom_label(\u001b[38;5;124m'\u001b[39m\u001b[38;5;124m0000\u001b[39m\u001b[38;5;124m'\u001b[39m)\n\u001b[0;32m      2\u001b[0m problem \u001b[38;5;241m=\u001b[39m AmplificationProblem(oracle)\n\u001b[1;32m----> 3\u001b[0m \u001b[38;5;28;43mlen\u001b[39;49m\u001b[43m(\u001b[49m\u001b[43mproblem\u001b[49m\u001b[38;5;241;43m.\u001b[39;49m\u001b[43mgrover_operator\u001b[49m\u001b[38;5;241;43m.\u001b[39;49m\u001b[43moracle\u001b[49m\u001b[38;5;241;43m.\u001b[39;49m\u001b[43mdecompose\u001b[49m\u001b[43m(\u001b[49m\u001b[43m)\u001b[49m\u001b[38;5;241;43m.\u001b[39;49m\u001b[43mdecompose\u001b[49m\u001b[43m(\u001b[49m\u001b[43m)\u001b[49m\u001b[38;5;241;43m.\u001b[39;49m\u001b[43mdecompose\u001b[49m\u001b[43m(\u001b[49m\u001b[43m)\u001b[49m\u001b[38;5;241;43m.\u001b[39;49m\u001b[43mdraw\u001b[49m\u001b[43m(\u001b[49m\u001b[43m)\u001b[49m\u001b[43m)\u001b[49m\n",
      "\u001b[1;31mTypeError\u001b[0m: object of type 'TextDrawing' has no len()"
     ]
    }
   ],
   "source": [
    "oracle = Statevector.from_label('0000')\n",
    "problem = AmplificationProblem(oracle)\n",
    "problem.grover_operator.oracle.decompose().decompose().decompose().draw()"
   ]
  },
  {
   "cell_type": "code",
   "execution_count": 26,
   "metadata": {},
   "outputs": [],
   "source": [
    "from qiskit.circuit.library import GroverOperator"
   ]
  },
  {
   "cell_type": "code",
   "execution_count": 36,
   "metadata": {},
   "outputs": [
    {
     "data": {
      "text/plain": [
       "array([0.+0.j, 0.+0.j, 0.+0.j, 0.+0.j, 0.+0.j, 0.+0.j, 1.+0.j, 0.+0.j])"
      ]
     },
     "execution_count": 36,
     "metadata": {},
     "output_type": "execute_result"
    }
   ],
   "source": [
    "oracle = Statevector.from_label('110')\n",
    "oracle.data"
   ]
  },
  {
   "cell_type": "code",
   "execution_count": 55,
   "metadata": {},
   "outputs": [],
   "source": [
    "import numpy as np"
   ]
  },
  {
   "cell_type": "code",
   "execution_count": 62,
   "metadata": {},
   "outputs": [],
   "source": [
    "d = Diagonal((-1) ** np.array([0, 0, 0, 0, 0, 0, 1, 0]))#.decompose().decompose().decompose().draw()"
   ]
  },
  {
   "cell_type": "code",
   "execution_count": 64,
   "metadata": {},
   "outputs": [
    {
     "data": {
      "text/plain": [
       "13"
      ]
     },
     "execution_count": 64,
     "metadata": {},
     "output_type": "execute_result"
    }
   ],
   "source": [
    "len(d.decompose().decompose().decompose())"
   ]
  },
  {
   "cell_type": "code",
   "execution_count": 69,
   "metadata": {},
   "outputs": [],
   "source": [
    "from qiskit.compiler import transpile"
   ]
  },
  {
   "cell_type": "code",
   "execution_count": 80,
   "metadata": {},
   "outputs": [
    {
     "data": {
      "text/plain": [
       "1"
      ]
     },
     "execution_count": 80,
     "metadata": {},
     "output_type": "execute_result"
    }
   ],
   "source": [
    "len(d)"
   ]
  },
  {
   "cell_type": "code",
   "execution_count": 82,
   "metadata": {},
   "outputs": [],
   "source": [
    "def example_grover_iteration():\n",
    "    \"\"\"Small circuit with 5/16 solutions\"\"\"\n",
    "    # Do circuit\n",
    "    qc = QuantumCircuit(4)\n",
    "    # Oracle\n",
    "    qc.h([2,3])\n",
    "    qc.ccx(0,1,2)\n",
    "    qc.h(2)\n",
    "    qc.x(2)\n",
    "    qc.ccx(0,2,3)\n",
    "    qc.x(2)\n",
    "    qc.h(3)\n",
    "    qc.x([1,3])\n",
    "    qc.h(2)\n",
    "    qc.mct([0,1,3],2)\n",
    "    qc.x([1,3])\n",
    "    qc.h(2)\n",
    "    # Diffuser\n",
    "    qc.h(range(3))\n",
    "    qc.x(range(3))\n",
    "    qc.z(3)\n",
    "    qc.mct([0,1,2],3)\n",
    "    qc.x(range(3))\n",
    "    qc.h(range(3))\n",
    "    qc.z(3)\n",
    "    return qc"
   ]
  },
  {
   "cell_type": "code",
   "execution_count": 83,
   "metadata": {},
   "outputs": [],
   "source": [
    "qc = example_grover_iteration()"
   ]
  },
  {
   "cell_type": "code",
   "execution_count": 86,
   "metadata": {},
   "outputs": [],
   "source": [
    "qc = QuantumCircuit(2)"
   ]
  },
  {
   "cell_type": "code",
   "execution_count": 87,
   "metadata": {},
   "outputs": [
    {
     "data": {
      "text/plain": [
       "<qiskit.circuit.instructionset.InstructionSet at 0x1b0cf30ba80>"
      ]
     },
     "execution_count": 87,
     "metadata": {},
     "output_type": "execute_result"
    }
   ],
   "source": [
    "qc.cz(0, 1)"
   ]
  },
  {
   "cell_type": "code",
   "execution_count": 90,
   "metadata": {},
   "outputs": [
    {
     "data": {
      "text/html": [
       "<pre style=\"word-wrap: normal;white-space: pre;background: #fff0;line-height: 1.1;font-family: &quot;Courier New&quot;,Courier,monospace\">                    \n",
       "q_0: ───────■───────\n",
       "     ┌───┐┌─┴─┐┌───┐\n",
       "q_1: ┤ H ├┤ X ├┤ H ├\n",
       "     └───┘└───┘└───┘</pre>"
      ],
      "text/plain": [
       "                    \n",
       "q_0: ───────■───────\n",
       "     ┌───┐┌─┴─┐┌───┐\n",
       "q_1: ┤ H ├┤ X ├┤ H ├\n",
       "     └───┘└───┘└───┘"
      ]
     },
     "execution_count": 90,
     "metadata": {},
     "output_type": "execute_result"
    }
   ],
   "source": [
    "qc.decompose().draw()"
   ]
  },
  {
   "cell_type": "code",
   "execution_count": 85,
   "metadata": {},
   "outputs": [
    {
     "data": {
      "text/html": [
       "<pre style=\"word-wrap: normal;white-space: pre;background: #fff0;line-height: 1.1;font-family: &quot;Courier New&quot;,Courier,monospace\">                                             ┌───┐┌───┐          ┌───┐┌───┐\n",
       "q_0: ───────■──────────────■──────────────■──┤ H ├┤ X ├───────■──┤ X ├┤ H ├\n",
       "            │  ┌───┐       │              │  ├───┤├───┤┌───┐  │  ├───┤├───┤\n",
       "q_1: ───────■──┤ X ├───────┼──────────────■──┤ X ├┤ H ├┤ X ├──■──┤ X ├┤ H ├\n",
       "     ┌───┐┌─┴─┐├───┤┌───┐  │  ┌───┐┌───┐┌─┴─┐├───┤├───┤├───┤  │  ├───┤├───┤\n",
       "q_2: ┤ H ├┤ X ├┤ H ├┤ X ├──■──┤ X ├┤ H ├┤ X ├┤ H ├┤ H ├┤ X ├──■──┤ X ├┤ H ├\n",
       "     ├───┤└───┘└───┘└───┘┌─┴─┐├───┤├───┤└─┬─┘├───┤├───┤└───┘┌─┴─┐├───┤└───┘\n",
       "q_3: ┤ H ├───────────────┤ X ├┤ H ├┤ X ├──■──┤ X ├┤ Z ├─────┤ X ├┤ Z ├─────\n",
       "     └───┘               └───┘└───┘└───┘     └───┘└───┘     └───┘└───┘     </pre>"
      ],
      "text/plain": [
       "                                             ┌───┐┌───┐          ┌───┐┌───┐\n",
       "q_0: ───────■──────────────■──────────────■──┤ H ├┤ X ├───────■──┤ X ├┤ H ├\n",
       "            │  ┌───┐       │              │  ├───┤├───┤┌───┐  │  ├───┤├───┤\n",
       "q_1: ───────■──┤ X ├───────┼──────────────■──┤ X ├┤ H ├┤ X ├──■──┤ X ├┤ H ├\n",
       "     ┌───┐┌─┴─┐├───┤┌───┐  │  ┌───┐┌───┐┌─┴─┐├───┤├───┤├───┤  │  ├───┤├───┤\n",
       "q_2: ┤ H ├┤ X ├┤ H ├┤ X ├──■──┤ X ├┤ H ├┤ X ├┤ H ├┤ H ├┤ X ├──■──┤ X ├┤ H ├\n",
       "     ├───┤└───┘└───┘└───┘┌─┴─┐├───┤├───┤└─┬─┘├───┤├───┤└───┘┌─┴─┐├───┤└───┘\n",
       "q_3: ┤ H ├───────────────┤ X ├┤ H ├┤ X ├──■──┤ X ├┤ Z ├─────┤ X ├┤ Z ├─────\n",
       "     └───┘               └───┘└───┘└───┘     └───┘└───┘     └───┘└───┘     "
      ]
     },
     "execution_count": 85,
     "metadata": {},
     "output_type": "execute_result"
    }
   ],
   "source": [
    "qc.draw()"
   ]
  },
  {
   "cell_type": "code",
   "execution_count": 81,
   "metadata": {},
   "outputs": [
    {
     "data": {
      "text/plain": [
       "1"
      ]
     },
     "execution_count": 81,
     "metadata": {},
     "output_type": "execute_result"
    }
   ],
   "source": [
    "d.depth()"
   ]
  },
  {
   "cell_type": "code",
   "execution_count": 37,
   "metadata": {},
   "outputs": [],
   "source": [
    "from qiskit.circuit.library import Diagonal"
   ]
  },
  {
   "cell_type": "code",
   "execution_count": 38,
   "metadata": {},
   "outputs": [],
   "source": [
    "from qiskit.circuit.library.phase_oracle import PhaseOracle"
   ]
  },
  {
   "cell_type": "code",
   "execution_count": 51,
   "metadata": {},
   "outputs": [],
   "source": [
    "oracle = PhaseOracle('(a & b & c & d & e & f)')"
   ]
  },
  {
   "cell_type": "code",
   "execution_count": 52,
   "metadata": {},
   "outputs": [
    {
     "data": {
      "text/plain": [
       "216"
      ]
     },
     "execution_count": 52,
     "metadata": {},
     "output_type": "execute_result"
    }
   ],
   "source": [
    "len(oracle.decompose())"
   ]
  },
  {
   "cell_type": "code",
   "execution_count": 35,
   "metadata": {},
   "outputs": [
    {
     "data": {
      "text/html": [
       "<pre style=\"word-wrap: normal;white-space: pre;background: #fff0;line-height: 1.1;font-family: &quot;Courier New&quot;,Courier,monospace\">global phase: π/8\n",
       "     ┌──────────┐┌───┐┌─────────┐┌───┐┌──────────┐┌───┐┌─────────┐┌───┐     »\n",
       "q_0: ┤ Rz(-π/4) ├┤ X ├┤ Rz(π/4) ├┤ X ├┤ Rz(-π/4) ├┤ X ├┤ Rz(π/4) ├┤ X ├─────»\n",
       "     └──────────┘└─┬─┘└─────────┘└─┬─┘└──────────┘└─┬─┘├─────────┤└─┬─┘┌───┐»\n",
       "q_1: ──────────────■───────────────┼────────────────■──┤ Rz(π/4) ├──┼──┤ X ├»\n",
       "                                   │                   └─────────┘  │  └─┬─┘»\n",
       "q_2: ──────────────────────────────■────────────────────────────────■────■──»\n",
       "                                                                            »\n",
       "«                                 \n",
       "«q_0: ────────────────────────────\n",
       "«     ┌──────────┐┌───┐           \n",
       "«q_1: ┤ Rz(-π/4) ├┤ X ├───────────\n",
       "«     └──────────┘└─┬─┘┌─────────┐\n",
       "«q_2: ──────────────■──┤ Rz(π/4) ├\n",
       "«                      └─────────┘</pre>"
      ],
      "text/plain": [
       "global phase: π/8\n",
       "     ┌──────────┐┌───┐┌─────────┐┌───┐┌──────────┐┌───┐┌─────────┐┌───┐     »\n",
       "q_0: ┤ Rz(-π/4) ├┤ X ├┤ Rz(π/4) ├┤ X ├┤ Rz(-π/4) ├┤ X ├┤ Rz(π/4) ├┤ X ├─────»\n",
       "     └──────────┘└─┬─┘└─────────┘└─┬─┘└──────────┘└─┬─┘├─────────┤└─┬─┘┌───┐»\n",
       "q_1: ──────────────■───────────────┼────────────────■──┤ Rz(π/4) ├──┼──┤ X ├»\n",
       "                                   │                   └─────────┘  │  └─┬─┘»\n",
       "q_2: ──────────────────────────────■────────────────────────────────■────■──»\n",
       "                                                                            »\n",
       "«                                 \n",
       "«q_0: ────────────────────────────\n",
       "«     ┌──────────┐┌───┐           \n",
       "«q_1: ┤ Rz(-π/4) ├┤ X ├───────────\n",
       "«     └──────────┘└─┬─┘┌─────────┐\n",
       "«q_2: ──────────────■──┤ Rz(π/4) ├\n",
       "«                      └─────────┘"
      ]
     },
     "execution_count": 35,
     "metadata": {},
     "output_type": "execute_result"
    }
   ],
   "source": [
    "oracle = Statevector.from_label('110')\n",
    "go = GroverOperator(oracle)\n",
    "go.oracle.decompose().decompose().decompose().draw()"
   ]
  },
  {
   "cell_type": "code",
   "execution_count": 26,
   "metadata": {},
   "outputs": [
    {
     "data": {
      "text/html": [
       "<pre style=\"word-wrap: normal;white-space: pre;background: #fff0;line-height: 1.1;font-family: &quot;Courier New&quot;,Courier,monospace\">global phase: π/8\n",
       "     ┌──────────┐┌───┐┌─────────┐┌───┐┌──────────┐┌───┐┌─────────┐┌───┐     »\n",
       "q_0: ┤ Rz(-π/4) ├┤ X ├┤ Rz(π/4) ├┤ X ├┤ Rz(-π/4) ├┤ X ├┤ Rz(π/4) ├┤ X ├─────»\n",
       "     └──────────┘└─┬─┘└─────────┘└─┬─┘└──────────┘└─┬─┘├─────────┤└─┬─┘┌───┐»\n",
       "q_1: ──────────────■───────────────┼────────────────■──┤ Rz(π/4) ├──┼──┤ X ├»\n",
       "                                   │                   └─────────┘  │  └─┬─┘»\n",
       "q_2: ──────────────────────────────■────────────────────────────────■────■──»\n",
       "                                                                            »\n",
       "«                                 \n",
       "«q_0: ────────────────────────────\n",
       "«     ┌──────────┐┌───┐           \n",
       "«q_1: ┤ Rz(-π/4) ├┤ X ├───────────\n",
       "«     └──────────┘└─┬─┘┌─────────┐\n",
       "«q_2: ──────────────■──┤ Rz(π/4) ├\n",
       "«                      └─────────┘</pre>"
      ],
      "text/plain": [
       "global phase: π/8\n",
       "     ┌──────────┐┌───┐┌─────────┐┌───┐┌──────────┐┌───┐┌─────────┐┌───┐     »\n",
       "q_0: ┤ Rz(-π/4) ├┤ X ├┤ Rz(π/4) ├┤ X ├┤ Rz(-π/4) ├┤ X ├┤ Rz(π/4) ├┤ X ├─────»\n",
       "     └──────────┘└─┬─┘└─────────┘└─┬─┘└──────────┘└─┬─┘├─────────┤└─┬─┘┌───┐»\n",
       "q_1: ──────────────■───────────────┼────────────────■──┤ Rz(π/4) ├──┼──┤ X ├»\n",
       "                                   │                   └─────────┘  │  └─┬─┘»\n",
       "q_2: ──────────────────────────────■────────────────────────────────■────■──»\n",
       "                                                                            »\n",
       "«                                 \n",
       "«q_0: ────────────────────────────\n",
       "«     ┌──────────┐┌───┐           \n",
       "«q_1: ┤ Rz(-π/4) ├┤ X ├───────────\n",
       "«     └──────────┘└─┬─┘┌─────────┐\n",
       "«q_2: ──────────────■──┤ Rz(π/4) ├\n",
       "«                      └─────────┘"
      ]
     },
     "execution_count": 26,
     "metadata": {},
     "output_type": "execute_result"
    }
   ],
   "source": [
    "oracle = Statevector.from_label('110')\n",
    "problem = AmplificationProblem(oracle)\n",
    "problem.grover_operator.oracle.decompose().decompose().decompose().draw()"
   ]
  },
  {
   "cell_type": "code",
   "execution_count": 32,
   "metadata": {},
   "outputs": [
    {
     "data": {
      "text/plain": [
       "''"
      ]
     },
     "execution_count": 32,
     "metadata": {},
     "output_type": "execute_result"
    }
   ],
   "source": [
    "'0' * i"
   ]
  },
  {
   "cell_type": "code",
   "execution_count": 8,
   "metadata": {},
   "outputs": [
    {
     "name": "stdout",
     "output_type": "stream",
     "text": [
      "1\n",
      "5\n",
      "13\n",
      "29\n",
      "61\n",
      "125\n",
      "253\n",
      "509\n",
      "1021\n",
      "2045\n"
     ]
    }
   ],
   "source": [
    "ls = []\n",
    "for i in range(10):\n",
    "    oracle = Statevector.from_label('0' * (i+1))\n",
    "    problem = AmplificationProblem(oracle)\n",
    "    ls.append(len(problem.grover_operator.oracle.decompose().decompose().decompose()))\n",
    "    print(ls[-1])"
   ]
  },
  {
   "cell_type": "code",
   "execution_count": 24,
   "metadata": {},
   "outputs": [
    {
     "name": "stdout",
     "output_type": "stream",
     "text": [
      "1\n",
      "15\n",
      "31\n",
      "77\n",
      "63\n",
      "127\n",
      "255\n",
      "511\n",
      "1023\n",
      "2047\n",
      "4095\n",
      "8191\n",
      "16383\n"
     ]
    }
   ],
   "source": [
    "ls = []\n",
    "for i in range(13):\n",
    "    qc = QuantumCircuit(i+2)\n",
    "    qc.mcx(list(range(i+1)), i+1)\n",
    "    ls.append(len(qc.decompose().decompose()))#.draw()\n",
    "    print(ls[-1])"
   ]
  },
  {
   "cell_type": "code",
   "execution_count": 13,
   "metadata": {},
   "outputs": [
    {
     "name": "stdout",
     "output_type": "stream",
     "text": [
      "2045\n",
      "2045\n",
      "2045\n",
      "2045\n",
      "2045\n",
      "2045\n",
      "2045\n",
      "2045\n",
      "2045\n",
      "2045\n"
     ]
    }
   ],
   "source": [
    "ls = []\n",
    "for i in range(10):\n",
    "    qc = QuantumCircuit(i+2)\n",
    "    qc.mcx(list(range(i+1)), i+1)\n",
    "    ls.append(len(problem.grover_operator.oracle.decompose().decompose().decompose()))\n",
    "    print(ls[-1])"
   ]
  },
  {
   "cell_type": "code",
   "execution_count": 5,
   "metadata": {},
   "outputs": [],
   "source": [
    "import matplotlib.pyplot as plt"
   ]
  },
  {
   "cell_type": "code",
   "execution_count": 9,
   "metadata": {},
   "outputs": [
    {
     "data": {
      "text/plain": [
       "[<matplotlib.lines.Line2D at 0x1b0cda20220>]"
      ]
     },
     "execution_count": 9,
     "metadata": {},
     "output_type": "execute_result"
    },
    {
     "data": {
      "image/png": "[encoded data removed]",
      "text/plain": [
       "<Figure size 432x288 with 1 Axes>"
      ]
     },
     "metadata": {
      "needs_background": "light"
     },
     "output_type": "display_data"
    }
   ],
   "source": [
    "plt.plot(ls)"
   ]
  },
  {
   "cell_type": "code",
   "execution_count": 8,
   "metadata": {},
   "outputs": [
    {
     "name": "stdout",
     "output_type": "stream",
     "text": [
      "Statevector([0.+0.j, 0.+0.j, 0.+0.j, 1.+0.j],\n",
      "            dims=(2, 2))\n"
     ]
    }
   ],
   "source": [
    "oracle = Statevector.from_label('11')\n",
    "\n",
    "oracle"
   ]
  },
  {
   "cell_type": "code",
   "execution_count": null,
   "metadata": {},
   "outputs": [],
   "source": [
    "qc = QuantumCircuit"
   ]
  },
  {
   "cell_type": "code",
   "execution_count": 1,
   "metadata": {},
   "outputs": [],
   "source": [
    "import numpy as np\n",
    "import matplotlib.pyplot as plt"
   ]
  }
 ],
 "metadata": {
  "kernelspec": {
   "display_name": "Python [conda env:qenv]",
   "language": "python",
   "name": "conda-env-qenv-py"
  },
  "language_info": {
   "codemirror_mode": {
    "name": "ipython",
    "version": 3
   },
   "file_extension": ".py",
   "mimetype": "text/x-python",
   "name": "python",
   "nbconvert_exporter": "python",
   "pygments_lexer": "ipython3",
   "version": "3.9.7"
  },
  "toc": {
   "base_numbering": 1,
   "nav_menu": {},
   "number_sections": true,
   "sideBar": true,
   "skip_h1_title": false,
   "title_cell": "Table of Contents",
   "title_sidebar": "Contents",
   "toc_cell": false,
   "toc_position": {},
   "toc_section_display": true,
   "toc_window_display": false
  }
 },
 "nbformat": 4,
 "nbformat_minor": 2
}
