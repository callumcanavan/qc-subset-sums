{
 "cells": [
  {
   "cell_type": "markdown",
   "metadata": {},
   "source": [
    "This module implements an algorithm to find a subset of an array \n",
    "with sum equal to a target number Using Qiskit, with theoretical\n",
    "worst-case performance quadratically better than a naive search\n",
    "\n",
    "Note: This assumes optimal choice for number of iterations of Grover's\n",
    "operator, which can be done using quantum phase estimation\n",
    "but has not yet been implemented."
   ]
  },
  {
   "cell_type": "code",
   "execution_count": 1,
   "metadata": {},
   "outputs": [],
   "source": [
    "import numpy as np\n",
    "\n",
    "from qiskit import Aer, transpile\n",
    "from qiskit import QuantumCircuit, QuantumRegister, ClassicalRegister\n",
    "from qiskit.quantum_info import Statevector\n",
    "from qiskit.algorithms import Grover, AmplificationProblem\n",
    "from qiskit.circuit.library import Diagonal, GroverOperator, PhaseEstimation\n",
    "from qiskit.circuit.library.basis_change.qft import QFT\n",
    "from qiskit.tools.visualization import plot_histogram"
   ]
  },
  {
   "cell_type": "code",
   "execution_count": 2,
   "metadata": {},
   "outputs": [],
   "source": [
    "TAU = 2 * np.pi"
   ]
  },
  {
   "cell_type": "code",
   "execution_count": 3,
   "metadata": {},
   "outputs": [],
   "source": [
    "def num_qubits(n_keys, total):\n",
    "    \"\"\"Calculate number of qubits needed in quantum regs for subset search\"\"\"\n",
    "    n_value_qubits = int(np.ceil(np.log2(total)))\n",
    "    n_total_qubits = n_keys + n_value_qubits\n",
    "    return n_value_qubits, n_total_qubits\n"
   ]
  },
  {
   "cell_type": "code",
   "execution_count": 4,
   "metadata": {},
   "outputs": [],
   "source": [
    "def exp_sums_circuit(values):\n",
    "    \"\"\"\n",
    "    Unitary circuit that, applied to binary state, will give exponentiated sum\n",
    "    of values in array positions where binary state bits equal 1\n",
    "    \"\"\"\n",
    "    qc = QuantumCircuit(len(values))\n",
    "    for i, val in enumerate(reversed(values)):\n",
    "        qc.p(TAU * val, i)\n",
    "    return qc"
   ]
  },
  {
   "cell_type": "code",
   "execution_count": 5,
   "metadata": {},
   "outputs": [],
   "source": [
    "def initialize_circuit(n_value_qubits, \n",
    "                       n_keys, \n",
    "                       n_ancillas=0,\n",
    "                       n_classical=0,\n",
    "                       name=None):\n",
    "    \"\"\"Create new circuit with specified register sizes\"\"\"\n",
    "    ns = [n_value_qubits, n_keys]\n",
    "    if n_ancillas:\n",
    "        ns.append(n_ancillas)\n",
    "    regs = [QuantumRegister(n) for n in ns]\n",
    "    if n_classical:\n",
    "        regs.append(ClassicalRegister(n_classical))\n",
    "    return QuantumCircuit(*regs, name=name), *regs"
   ]
  },
  {
   "cell_type": "code",
   "execution_count": 6,
   "metadata": {},
   "outputs": [],
   "source": [
    "def sums_preparation_circuit(U, n_value_qubits, n_keys, name=None):\n",
    "    \"\"\"\n",
    "    Circuit to create superposition of exponentiation of all possible sums of \n",
    "    elements in values array\n",
    "    \"\"\"\n",
    "    sums_prep, sum_reg, key_reg = initialize_circuit(n_value_qubits, \n",
    "                                                     n_keys, \n",
    "                                                     name=name)\n",
    "    sums_prep.h(sum_reg)\n",
    "    sums_prep.h(key_reg)\n",
    "    \n",
    "    repetitions = 1\n",
    "    for sum_qubit in reversed(sum_reg):\n",
    "        for _ in range(repetitions):\n",
    "            sums_prep.append(U.control(), [sum_qubit] + key_reg[:])\n",
    "        repetitions *= 2\n",
    "\n",
    "    qft_dagger = QFT(n_value_qubits, do_swaps=False, inverse=True)\n",
    "    sums_prep.append(qft_dagger, sum_reg)\n",
    "    return sums_prep\n"
   ]
  },
  {
   "cell_type": "code",
   "execution_count": 7,
   "metadata": {},
   "outputs": [],
   "source": [
    "def oracle_circuit(target, n_value_qubits, n_keys, name=None):\n",
    "    \"\"\"\n",
    "    Circuit which applies phase flip to states with binary representation\n",
    "    equal to target\n",
    "    \"\"\"\n",
    "    target_array = np.zeros(2 ** n_value_qubits)\n",
    "    target_array[target] = 1\n",
    "    diag = Diagonal((-1) ** target_array)\n",
    "    \n",
    "    oracle, sum_reg, key_reg = initialize_circuit(n_value_qubits, \n",
    "                                                  n_keys, \n",
    "                                                  name=name)\n",
    "    oracle.append(diag, sum_reg[:])\n",
    "    return oracle"
   ]
  },
  {
   "cell_type": "code",
   "execution_count": 8,
   "metadata": {},
   "outputs": [],
   "source": [
    "def grover_circuit(oracle, sums_prep, n_value_qubits, name=None):\n",
    "    \"\"\"\n",
    "    Grover iteration circuit\n",
    "    \"\"\"\n",
    "    return GroverOperator(oracle,\n",
    "                          state_preparation=sums_prep,\n",
    "                          insert_barriers=True,\n",
    "                          mcx_mode='v-chain',\n",
    "                          name=name)\n"
   ]
  },
  {
   "cell_type": "code",
   "execution_count": 9,
   "metadata": {},
   "outputs": [],
   "source": [
    "def estimate_iterations(values, target):\n",
    "    \"\"\"\n",
    "    Estimated optimal number of iterations for subset sum Grover search\n",
    "    \"\"\"\n",
    "    # TODO: Implement this statisticallly e.g. using Irwin-Hall distribution\n",
    "    # or better yet with a Quantum Counting algorithm\n",
    "    raise NotImplementedError"
   ]
  },
  {
   "cell_type": "code",
   "execution_count": 10,
   "metadata": {},
   "outputs": [],
   "source": [
    "def subset_sum_circuit(values, target, iterations=None):\n",
    "    \"\"\"\n",
    "    Circuit which finds subsets of values array with sum equal to target with\n",
    "    high probability, in O(2^(n/2)) time where n=number of elements in target\n",
    "    array, assuming fixed number of bits per value and optimal number of\n",
    "    iterations\n",
    "    \"\"\"\n",
    "    n_keys = len(values)\n",
    "    total = sum(values)\n",
    "    n_value_qubits, n_total_qubits = num_qubits(n_keys, total)\n",
    "    \n",
    "    values_normed = values / (2 ** n_value_qubits)\n",
    "    U = exp_sums_circuit(values_normed)\n",
    "    sums_prep = sums_preparation_circuit(U, n_value_qubits, n_keys, name='SP')\n",
    "    oracle = oracle_circuit(target, n_value_qubits, n_keys, name='O')\n",
    "    grover_op = grover_circuit(oracle, sums_prep, n_value_qubits, name='Q') \n",
    "    n_ancillas = len(grover_op.ancillas)\n",
    "    \n",
    "    if iterations is None:\n",
    "        iterations = estimate_iterations\n",
    "    \n",
    "    qc, sum_reg, key_reg, _, _ = initialize_circuit(n_value_qubits, \n",
    "                                                    n_keys,\n",
    "                                                    n_ancillas=n_ancillas,\n",
    "                                                    n_classical=n_keys,\n",
    "                                                    name='subset_sum')\n",
    "    qc.append(sums_prep, sum_reg[:] + key_reg[:])\n",
    "    for _ in range(iterations):\n",
    "        qc.append(grover_op, qc.qubits)\n",
    "    qc.measure(key_reg, qc.clbits)\n",
    "    return qc"
   ]
  },
  {
   "cell_type": "code",
   "execution_count": 11,
   "metadata": {},
   "outputs": [],
   "source": [
    "simulator = Aer.get_backend('qasm_simulator')"
   ]
  },
  {
   "cell_type": "code",
   "execution_count": 12,
   "metadata": {},
   "outputs": [],
   "source": [
    "vs = np.array([5, 7, 8, 9, 1])\n",
    "targ = 16\n",
    "iterations = 2\n",
    "\n",
    "qc = subset_sum_circuit(vs, targ, iterations=iterations)\n",
    "qc = transpile(qc, simulator)\n",
    "result = simulator.run(qc).result()\n",
    "counts = result.get_counts(qc)"
   ]
  },
  {
   "cell_type": "code",
   "execution_count": 13,
   "metadata": {},
   "outputs": [
    {
     "data": {
      "image/png": "[encoded data removed]",
      "text/plain": [
       "<Figure size 504x360 with 1 Axes>"
      ]
     },
     "execution_count": 13,
     "metadata": {},
     "output_type": "execute_result"
    }
   ],
   "source": [
    "plot_histogram(counts)"
   ]
  }
 ],
 "metadata": {
  "kernelspec": {
   "display_name": "Python [conda env:qenv]",
   "language": "python",
   "name": "conda-env-qenv-py"
  },
  "language_info": {
   "codemirror_mode": {
    "name": "ipython",
    "version": 3
   },
   "file_extension": ".py",
   "mimetype": "text/x-python",
   "name": "python",
   "nbconvert_exporter": "python",
   "pygments_lexer": "ipython3",
   "version": "3.9.7"
  },
  "toc": {
   "base_numbering": 1,
   "nav_menu": {},
   "number_sections": true,
   "sideBar": true,
   "skip_h1_title": false,
   "title_cell": "Table of Contents",
   "title_sidebar": "Contents",
   "toc_cell": false,
   "toc_position": {},
   "toc_section_display": true,
   "toc_window_display": false
  }
 },
 "nbformat": 4,
 "nbformat_minor": 2
}
