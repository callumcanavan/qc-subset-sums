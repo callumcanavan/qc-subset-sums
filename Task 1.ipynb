{
 "cells": [
  {
   "cell_type": "markdown",
   "metadata": {},
   "source": [
    "**Task 1: Add values**\n",
    "\n",
    "This module implements an algorithm to find a subset of an array with sum equal to a target number using Qiskit, with theoretical worst-case performance (roughly) quadratically better than a naive search (assuming optimal choice for number of iterations of Grover's operator, which can be done using quantum phase estimation but has not yet been implemented here).\n",
    "\n",
    "The algorithm used here is inspired by Daskin 2017 [1] which also concerned subset-sums but had the aim to output the maximum subset sum less than a specified number, as opposed to outputting indices of elements which add up to a target which we are trying to do here. The algorithm implemented below has the following general structure:\n",
    "\n",
    "**Input**: Vector *V* of *N*  nonnegative integers each *n* bits long, and a target value also *n* bits long.\n",
    "1. The sum *T* of all elements in the vector is calculated, followed by *L* = ceiling(log(*T*)). All vector values are divided by  2^*L* so that all potential subset sums are now less than 1 (for compatability with inverse QFT later).\n",
    "2. 2 quantum registers are created for the circuit: a sum register size *L* and a key register size *N*.\n",
    "3. Hadamard gates are applied to each qubit in the key register. Representing each subset of *V* as a binary string (where 1 in the *j*th bit implies value *j* is included the subset), this step creates an equal superposition of all possible subset strings in the key register.\n",
    "4. Unitary operator *U* is defined by applying *U*1(2 • pi • *vj*) to each key register qubit *j*, where *vj* is the value of the *j*th element of *V*.\n",
    "5. Hadamard gates are applied to each qubit in the sum register. Then, for each qubit *j*, a controlled *U* is applied to the key register 2^*j* times with sum register qubit *j* as the control. This is analagous to a similar step in the standard phase estimation algorithm (here applying controlled *U* to a superposition of eigenstates instead of just one eigenstate) and the output of this step is an equal superposition of states of the form QFT(|sum(*x*)>)|*x*>, for all possible binary strings *x* of length *N*. Here |*x*> is the key register state, *x* is a binary string indicating which elements of *V* are in a subset as discussed in step 3, QFT(|sum(*x*)>) is the state of the sum register, and  sum(*x*) is the sum of all elements in the subset indicated by *x*, as a binary string.\n",
    "6. An inverse QFT is applied to the sum register, giving an equal superposition of states |sum(*x*)>|*x*> for all subset strings *x*. Let the overall operation of the circuit up the this point = *A*\n",
    "7. An oracle operator *O* is defined which applies a phase flip to any states where the sum register |sum(*x*)> = |*t*>, where *t* is a binary representation of the target value, using Qiskit's Diagonal class.\n",
    "8. Qiskit's GroverOperator class is used to define a Grover iteration, taking *O* and *A* as input and constructing *G* = *A • S_0 •  A_dgr •  O*, where *A_dgr* is the inverse of *A*, and *S_0* applies a phase flip to the |0...0>|0...0> state.\n",
    "9. *G* is applied *R* times to the output of step 6, and the key register is then measured to obtain the final subset string. If *R* is chosen optimally, then with high probability the measured subset string will indicate a subset of *V* with sum equal to the target. Optimal *R* should be on the order of 2^(*N*/2) / sqrt(*M*), where *M* is the number of subsets with sum equal to *t*. Optimal *R* can be estimated for a given input using a quantum counting algorithm, which has not been implemented here.\n",
    "\n",
    "The time complexities for these steps are roughly:\n",
    "1. *O*(*N*)\n",
    "2. *O*(*N* + *n*)\n",
    "3. *O*(*N*)\n",
    "4. *O*(*N*)\n",
    "5. *O*(*N*^2 • 2^2*n*)\n",
    "6. *O*((*n* + log(*N*))^2)\n",
    "7. *O*(*N* • 2^*n*)\n",
    "8. *O*(*N*^2 • 2^2*n*) - *S_0* is implemented in *O*(*N*) operations through the use of *O*(*N*) ancilla qubits [2]\n",
    "9. *O*(2^(*N*/2 + 2log*N*) • 2^2*n* • *M*^-1/2)\n",
    "\n",
    "\n",
    "\n",
    "**References**\n",
    "\n",
    "[1] A. Daskin, \"A Quantum Approach to Subset-Sum and Similar Problems,\" 2017, doi: 10.48550\n",
    "\n",
    "[2] M. Nielsen and I. Chuang, \"Quantum Computation and Quantum Information: 10th Anniversary Edition,\" *Cambridge: Cambridge University Press*, 2010, doi:10.1017/CBO9780511976667"
   ]
  },
  {
   "cell_type": "markdown",
   "metadata": {},
   "source": [
    "# Imports and setup"
   ]
  },
  {
   "cell_type": "code",
   "execution_count": 1,
   "metadata": {},
   "outputs": [],
   "source": [
    "import numpy as np\n",
    "\n",
    "from qiskit import Aer, transpile\n",
    "from qiskit import QuantumCircuit, QuantumRegister, ClassicalRegister\n",
    "from qiskit.quantum_info import Statevector\n",
    "from qiskit.circuit.library import Diagonal, GroverOperator\n",
    "from qiskit.circuit.library.basis_change.qft import QFT\n",
    "from qiskit.tools.visualization import plot_histogram"
   ]
  },
  {
   "cell_type": "code",
   "execution_count": 2,
   "metadata": {},
   "outputs": [],
   "source": [
    "TAU = 2 * np.pi"
   ]
  },
  {
   "cell_type": "markdown",
   "metadata": {},
   "source": [
    "# Algorithm implementation"
   ]
  },
  {
   "cell_type": "code",
   "execution_count": 3,
   "metadata": {},
   "outputs": [],
   "source": [
    "def num_qubits(n_keys, total):\n",
    "    \"\"\"Calculate number of qubits needed in quantum regs for subset search\"\"\"\n",
    "    n_value_qubits = int(np.ceil(np.log2(total)))\n",
    "    n_total_qubits = n_keys + n_value_qubits\n",
    "    return n_value_qubits, n_total_qubits"
   ]
  },
  {
   "cell_type": "code",
   "execution_count": 4,
   "metadata": {},
   "outputs": [],
   "source": [
    "def exp_sums_circuit(values):\n",
    "    \"\"\"\n",
    "    Unitary circuit that, applied to binary state, will give exponentiated sum\n",
    "    of values in array positions where binary state bits equal 1\n",
    "    \"\"\"\n",
    "    qc = QuantumCircuit(len(values))\n",
    "    for i, val in enumerate(reversed(values)):\n",
    "        qc.p(TAU * val, i)\n",
    "    return qc"
   ]
  },
  {
   "cell_type": "code",
   "execution_count": 5,
   "metadata": {},
   "outputs": [],
   "source": [
    "def initialize_circuit(n_value_qubits, \n",
    "                       n_keys, \n",
    "                       n_ancillas=0,\n",
    "                       n_classical=0,\n",
    "                       name=None):\n",
    "    \"\"\"Create new circuit with specified register sizes\"\"\"\n",
    "    ns = [n_value_qubits, n_keys]\n",
    "    if n_ancillas:\n",
    "        ns.append(n_ancillas)\n",
    "    regs = [QuantumRegister(n) for n in ns]\n",
    "    if n_classical:\n",
    "        regs.append(ClassicalRegister(n_classical))\n",
    "    return QuantumCircuit(*regs, name=name), *regs"
   ]
  },
  {
   "cell_type": "code",
   "execution_count": 6,
   "metadata": {},
   "outputs": [],
   "source": [
    "def sums_preparation_circuit(U, n_value_qubits, n_keys, name=None):\n",
    "    \"\"\"\n",
    "    Circuit to create superposition of exponentiation of all possible sums of \n",
    "    elements in values array\n",
    "    \"\"\"\n",
    "    sums_prep, sum_reg, key_reg = initialize_circuit(n_value_qubits, \n",
    "                                                     n_keys, \n",
    "                                                     name=name)\n",
    "    sums_prep.h(sum_reg)\n",
    "    sums_prep.h(key_reg)\n",
    "    \n",
    "    # Exponentially increate number of U applications with each rep\n",
    "    repetitions = 1\n",
    "    for sum_qubit in reversed(sum_reg):\n",
    "        for _ in range(repetitions):\n",
    "            sums_prep.append(U.control(), [sum_qubit] + key_reg[:])\n",
    "        repetitions *= 2\n",
    "\n",
    "    qft_dagger = QFT(n_value_qubits, do_swaps=False, inverse=True)\n",
    "    sums_prep.append(qft_dagger, sum_reg)\n",
    "    return sums_prep\n"
   ]
  },
  {
   "cell_type": "code",
   "execution_count": 7,
   "metadata": {},
   "outputs": [],
   "source": [
    "def oracle_circuit(target, n_value_qubits, n_keys, name=None):\n",
    "    \"\"\"\n",
    "    Circuit which applies phase flip to states with binary representation\n",
    "    equal to target\n",
    "    \"\"\"\n",
    "    target_array = np.zeros(2 ** n_value_qubits)\n",
    "    target_array[target] = 1\n",
    "    diag = Diagonal((-1) ** target_array) # target value phase flip\n",
    "    \n",
    "    oracle, sum_reg, key_reg = initialize_circuit(n_value_qubits, \n",
    "                                                  n_keys, \n",
    "                                                  name=name)\n",
    "    oracle.append(diag, sum_reg[:])\n",
    "    return oracle"
   ]
  },
  {
   "cell_type": "code",
   "execution_count": 8,
   "metadata": {},
   "outputs": [],
   "source": [
    "def grover_circuit(oracle, sums_prep, n_value_qubits, name=None):\n",
    "    \"\"\"\n",
    "    Grover iteration circuit\n",
    "    \"\"\"\n",
    "    return GroverOperator(oracle,\n",
    "                          state_preparation=sums_prep,\n",
    "                          insert_barriers=True,\n",
    "                          mcx_mode='v-chain',\n",
    "                          name=name)"
   ]
  },
  {
   "cell_type": "code",
   "execution_count": 9,
   "metadata": {},
   "outputs": [],
   "source": [
    "def estimate_iterations(values, target):\n",
    "    \"\"\"\n",
    "    Estimated optimal number of iterations for subset sum Grover search\n",
    "    \"\"\"\n",
    "    # TODO: Implement this statisticallly e.g. using Irwin-Hall distribution\n",
    "    # or better yet with a Quantum Counting algorithm\n",
    "    raise NotImplementedError"
   ]
  },
  {
   "cell_type": "code",
   "execution_count": 10,
   "metadata": {},
   "outputs": [],
   "source": [
    "def subset_sum_circuit(values, target, iterations=None):\n",
    "    \"\"\"\n",
    "    Circuit which finds subsets of values array with sum equal to target with\n",
    "    high probability, in O(2^(n/2)) time where n=number of elements in target\n",
    "    array, assuming fixed number of bits per value and optimal number of\n",
    "    iterations\n",
    "    \"\"\"\n",
    "    n_keys = len(values)\n",
    "    total = sum(values)\n",
    "    n_value_qubits, n_total_qubits = num_qubits(n_keys, total)\n",
    "    \n",
    "    values_normed = values / (2 ** n_value_qubits)\n",
    "    U = exp_sums_circuit(values_normed)\n",
    "    sums_prep = sums_preparation_circuit(U, n_value_qubits, n_keys, name='SP')\n",
    "    oracle = oracle_circuit(target, n_value_qubits, n_keys, name='O')\n",
    "    grover_op = grover_circuit(oracle, sums_prep, n_value_qubits, name='Q') \n",
    "    n_ancillas = len(grover_op.ancillas) # order n_keys\n",
    "    \n",
    "    # TODO: Implement estimate_iterations\n",
    "    if iterations is None:\n",
    "        iterations = estimate_iterations(values, target)\n",
    "    \n",
    "    qc, sum_reg, key_reg, _, _ = initialize_circuit(n_value_qubits, \n",
    "                                                    n_keys,\n",
    "                                                    n_ancillas=n_ancillas,\n",
    "                                                    n_classical=n_keys,\n",
    "                                                    name='subset_sum')\n",
    "    qc.append(sums_prep, sum_reg[:] + key_reg[:])\n",
    "    for _ in range(iterations):\n",
    "        qc.append(grover_op, qc.qubits)\n",
    "    qc.measure(key_reg, qc.clbits)\n",
    "    return qc"
   ]
  },
  {
   "cell_type": "markdown",
   "metadata": {},
   "source": [
    "# Tests"
   ]
  },
  {
   "cell_type": "code",
   "execution_count": 11,
   "metadata": {},
   "outputs": [],
   "source": [
    "simulator = Aer.get_backend('qasm_simulator')"
   ]
  },
  {
   "cell_type": "code",
   "execution_count": 13,
   "metadata": {},
   "outputs": [
    {
     "data": {
      "image/png": "[encoded data removed]",
      "text/plain": [
       "<Figure size 504x360 with 1 Axes>"
      ]
     },
     "execution_count": 13,
     "metadata": {},
     "output_type": "execute_result"
    }
   ],
   "source": [
    "# Test input\n",
    "vs = np.array([1, 3, 6, 4, 2])\n",
    "targ = 6\n",
    "iterations = 2\n",
    "\n",
    "qc = subset_sum_circuit(vs, targ, iterations=iterations)\n",
    "qc = transpile(qc, simulator)\n",
    "result = simulator.run(qc).result()\n",
    "counts = result.get_counts(qc)\n",
    "plot_histogram(counts)"
   ]
  },
  {
   "cell_type": "code",
   "execution_count": 14,
   "metadata": {},
   "outputs": [
    {
     "data": {
      "image/png": "[encoded data removed]",
      "text/plain": [
       "<Figure size 504x360 with 1 Axes>"
      ]
     },
     "execution_count": 14,
     "metadata": {},
     "output_type": "execute_result"
    }
   ],
   "source": [
    "# Challenge input\n",
    "vs = np.array([5, 7, 8, 9, 1])\n",
    "targ = 16\n",
    "iterations = 3\n",
    "\n",
    "qc = subset_sum_circuit(vs, targ, iterations=iterations)\n",
    "qc = transpile(qc, simulator)\n",
    "result = simulator.run(qc).result()\n",
    "counts = result.get_counts(qc)\n",
    "plot_histogram(counts)"
   ]
  },
  {
   "cell_type": "markdown",
   "metadata": {},
   "source": [
    "Success!(ish)\n",
    "\n",
    "The optimal number of Grover iterations for the above tasks (2 and 3 iterations, respectively) were essentially found through trial and error.\n",
    "\n",
    "Future work:\n",
    "- Implement a quantum counting algorithm to estimate the optimal *R* for a given input.\n",
    "- Make the current implementation more time/memory efficient: oracle operator is quite simple but diffusion operator is much longer and requires ancilla qubits.\n",
    "- Investigate depth of circuit for different input vector sizes empirically to see if my rough complexity calculations are accurate."
   ]
  }
 ],
 "metadata": {
  "kernelspec": {
   "display_name": "Python [conda env:qenv]",
   "language": "python",
   "name": "conda-env-qenv-py"
  },
  "language_info": {
   "codemirror_mode": {
    "name": "ipython",
    "version": 3
   },
   "file_extension": ".py",
   "mimetype": "text/x-python",
   "name": "python",
   "nbconvert_exporter": "python",
   "pygments_lexer": "ipython3",
   "version": "3.9.7"
  },
  "toc": {
   "base_numbering": 1,
   "nav_menu": {},
   "number_sections": true,
   "sideBar": true,
   "skip_h1_title": false,
   "title_cell": "Table of Contents",
   "title_sidebar": "Contents",
   "toc_cell": false,
   "toc_position": {},
   "toc_section_display": true,
   "toc_window_display": false
  }
 },
 "nbformat": 4,
 "nbformat_minor": 2
}
